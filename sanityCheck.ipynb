{
 "cells": [
  {
   "cell_type": "code",
   "execution_count": 64,
   "id": "072bdb4e",
   "metadata": {},
   "outputs": [],
   "source": [
    "import os\n",
    "from random import randint\n",
    "import pandas as pd\n",
    "\n",
    "bird_names = [\"Black-naped Oriole\", \"Brown-throated Sunbird\", \"Collared Kingfisher\", \"Javan Myna\", \"Olive-backed Sunbird\", \"Pink-necked Green Pigeon\", \"Spotted Dove\", \"Striated Heron\", \"White-breasted Waterhen\", \"Yellow-vented Bulbul\"]\n",
    "label_folder_name = 'Bounding Boxes/'\n",
    "dataset_folder_name = 'Cropped/'"
   ]
  },
  {
   "cell_type": "markdown",
   "id": "5723045d",
   "metadata": {},
   "source": [
    "# Check 100 unique images in label dataset"
   ]
  },
  {
   "cell_type": "code",
   "execution_count": 67,
   "id": "a78da0f5",
   "metadata": {},
   "outputs": [
    {
     "name": "stdout",
     "output_type": "stream",
     "text": [
      "Number of unique images in  Black-naped Oriole .csv:  100\n",
      "Number of unique images in  Brown-throated Sunbird .csv:  100\n",
      "Number of unique images in  Collared Kingfisher .csv:  100\n",
      "Number of unique images in  Javan Myna .csv:  100\n",
      "Number of unique images in  Olive-backed Sunbird .csv:  100\n",
      "Number of unique images in  Pink-necked Green Pigeon .csv:  100\n",
      "Number of unique images in  Spotted Dove .csv:  100\n",
      "Number of unique images in  Striated Heron .csv:  100\n",
      "Number of unique images in  White-breasted Waterhen .csv:  100\n",
      "Number of unique images in  Yellow-vented Bulbul .csv:  100\n",
      "\n",
      " Check successful!\n"
     ]
    }
   ],
   "source": [
    "success = True\n",
    "for file_name in bird_names:\n",
    "    df = pd.read_csv(label_folder_name + file_name + '.csv')\n",
    "    unique_count = df['image_name'].nunique()\n",
    "    if unique_count != 100:\n",
    "        success = False\n",
    "    print('Number of unique images in '+ file_name + '.csv: ', unique_count)\n",
    "    \n",
    "if success:\n",
    "    print('\\n Check successful!')\n",
    "else:\n",
    "    print('\\n Check unsuccessful!')"
   ]
  },
  {
   "cell_type": "markdown",
   "id": "ddc2738d",
   "metadata": {},
   "source": [
    "# Check images in label dataset correspond to images in actual dataset"
   ]
  },
  {
   "cell_type": "code",
   "execution_count": 66,
   "id": "7cf5a75e",
   "metadata": {},
   "outputs": [
    {
     "name": "stdout",
     "output_type": "stream",
     "text": [
      "Number of label file names in  Black-naped Oriole :  100\n",
      "Number of data file names in  Black-naped Oriole :  100\n",
      "Label files equal data files:  True\n",
      "Number of label file names in  Brown-throated Sunbird :  100\n",
      "Number of data file names in  Brown-throated Sunbird :  100\n",
      "Label files equal data files:  True\n",
      "Number of label file names in  Collared Kingfisher :  100\n",
      "Number of data file names in  Collared Kingfisher :  100\n",
      "Label files equal data files:  True\n",
      "Number of label file names in  Javan Myna :  100\n",
      "Number of data file names in  Javan Myna :  100\n",
      "Label files equal data files:  True\n",
      "Number of label file names in  Olive-backed Sunbird :  100\n",
      "Number of data file names in  Olive-backed Sunbird :  100\n",
      "Label files equal data files:  True\n",
      "Number of label file names in  Pink-necked Green Pigeon :  100\n",
      "Number of data file names in  Pink-necked Green Pigeon :  100\n",
      "Label files equal data files:  True\n",
      "Number of label file names in  Spotted Dove :  100\n",
      "Number of data file names in  Spotted Dove :  100\n",
      "Label files equal data files:  True\n",
      "Number of label file names in  Striated Heron :  100\n",
      "Number of data file names in  Striated Heron :  100\n",
      "Label files equal data files:  True\n",
      "Number of label file names in  White-breasted Waterhen :  100\n",
      "Number of data file names in  White-breasted Waterhen :  100\n",
      "Label files equal data files:  True\n",
      "Number of label file names in  Yellow-vented Bulbul :  100\n",
      "Number of data file names in  Yellow-vented Bulbul :  100\n",
      "Label files equal data files:  True\n",
      "\n",
      " Check successful!\n"
     ]
    }
   ],
   "source": [
    "success = True\n",
    "for bird_name in bird_names:\n",
    "    df = pd.read_csv(label_folder_name + bird_name + '.csv')\n",
    "    label_file_names = set(df['image_name'].drop_duplicates().to_list())\n",
    "    print('Number of label file names in ', bird_name, ': ', len(label_file_names))\n",
    "    \n",
    "    data_file_names = set(filter(lambda x: x[-4:] == '.png' ,os.listdir('./' + dataset_folder_name + bird_name)))\n",
    "    print('Number of data file names in ', bird_name, ': ', len(data_file_names))\n",
    "\n",
    "    print('Label files equal data files: ', label_file_names == data_file_names)\n",
    "    if label_file_names != data_file_names:\n",
    "        success = False\n",
    "        \n",
    "if success:\n",
    "    print('\\n Check successful!')\n",
    "else:\n",
    "    print('\\n Check unsuccessful!')\n",
    "    "
   ]
  },
  {
   "cell_type": "code",
   "execution_count": null,
   "id": "0f2cea9e",
   "metadata": {},
   "outputs": [],
   "source": []
  }
 ],
 "metadata": {
  "kernelspec": {
   "display_name": "Python 3 (ipykernel)",
   "language": "python",
   "name": "python3"
  },
  "language_info": {
   "codemirror_mode": {
    "name": "ipython",
    "version": 3
   },
   "file_extension": ".py",
   "mimetype": "text/x-python",
   "name": "python",
   "nbconvert_exporter": "python",
   "pygments_lexer": "ipython3",
   "version": "3.7.10"
  }
 },
 "nbformat": 4,
 "nbformat_minor": 5
}
