{
 "cells": [
  {
   "cell_type": "code",
   "execution_count": 1,
   "id": "4108fa66",
   "metadata": {},
   "outputs": [],
   "source": [
    "import pandas as pd"
   ]
  },
  {
   "cell_type": "code",
   "execution_count": 39,
   "id": "a8cdf58e",
   "metadata": {},
   "outputs": [],
   "source": [
    "bird_names = [\"Black-naped Oriole\", \"Brown-throated Sunbird\", \"Collared Kingfisher\", \"Javan Myna\", \"Olive-backed Sunbird\", \"Pink-necked Green Pigeon\", \"Spotted Dove\", \"Striated Heron\", \"White-breasted Waterhen\", \"Yellow-vented Bulbul\"]\n",
    "#bird_names = [\"Black-naped Oriole\"]\n",
    "\n",
    "for bird_name in bird_names: # for each type of bird\n",
    "    csv_1_path = \"data/\" + bird_name + \".csv\"\n",
    "    csv_2_path = \"extra_data/\" + bird_name + \".csv\"\n",
    "    save_path = bird_name + \".csv\"\n",
    "    \n",
    "    csv_1 = pd.read_csv(csv_1_path)\n",
    "    csv_2 = pd.read_csv(csv_2_path)\n",
    "    \n",
    "    csv_1 = csv_1.drop(csv_1.columns[0], axis=1)\n",
    "    csv_2 = csv_2.drop(csv_2.columns[0], axis=1)\n",
    "    \n",
    "    combined_csv = pd.concat([csv_1, csv_2])\n",
    "    combined_csv.reset_index(inplace=True, drop=True) \n",
    "    \n",
    "    combined_csv.to_csv(save_path, index = True)"
   ]
  },
  {
   "cell_type": "code",
   "execution_count": null,
   "id": "86ea635a",
   "metadata": {},
   "outputs": [],
   "source": []
  }
 ],
 "metadata": {
  "kernelspec": {
   "display_name": "Python 3 (ipykernel)",
   "language": "python",
   "name": "python3"
  },
  "language_info": {
   "codemirror_mode": {
    "name": "ipython",
    "version": 3
   },
   "file_extension": ".py",
   "mimetype": "text/x-python",
   "name": "python",
   "nbconvert_exporter": "python",
   "pygments_lexer": "ipython3",
   "version": "3.7.10"
  }
 },
 "nbformat": 4,
 "nbformat_minor": 5
}
