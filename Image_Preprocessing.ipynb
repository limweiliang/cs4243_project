{
 "cells": [
  {
   "cell_type": "code",
   "execution_count": 1,
   "id": "8d599b62",
   "metadata": {},
   "outputs": [],
   "source": [
    "from PIL import Image\n",
    "import matplotlib.pyplot as plt\n",
    "import numpy as np\n",
    "import math"
   ]
  },
  {
   "cell_type": "code",
   "execution_count": 2,
   "id": "e8a1d2e5",
   "metadata": {},
   "outputs": [],
   "source": [
    "# Crops the given image into a square, by stripping pixels from the longer dimension\n",
    "def get_square_cropped_image(image, verbose = False):\n",
    "    if verbose:\n",
    "        fig = plt.figure()\n",
    "        fig.add_subplot(1, 2, 1).set_title(\"Before\")\n",
    "        print(f\"Original Image Size: {image.size}\")\n",
    "        plt.imshow(image)\n",
    "    \n",
    "    width = image.size[0]\n",
    "    height = image.size[1]\n",
    "    cropped_image_size = min(height, width)\n",
    "\n",
    "    center_x = width//2\n",
    "    center_y = height//2\n",
    "\n",
    "    top_left_x = center_x - cropped_image_size//2\n",
    "    top_left_y = center_y - cropped_image_size//2\n",
    "\n",
    "    bottom_right_x = center_x + math.ceil(cropped_image_size/2)\n",
    "    bottom_right_y = center_y + math.ceil(cropped_image_size/2)\n",
    "\n",
    "    cropped_dimensions = (top_left_x, top_left_y, bottom_right_x, bottom_right_y)\n",
    "    cropped = image.crop(cropped_dimensions)\n",
    "    \n",
    "    if verbose:\n",
    "        print(f\"Resized Image Corners: {cropped_dimensions}\")\n",
    "        print(f\"Cropped Image Dimensions: {cropped.size} \")\n",
    "        fig.add_subplot(1, 2, 2).set_title(\"After\")\n",
    "        plt.imshow(cropped)\n",
    "\n",
    "    return cropped"
   ]
  },
  {
   "cell_type": "code",
   "execution_count": 3,
   "id": "e6fb2afc",
   "metadata": {},
   "outputs": [],
   "source": [
    "bird_names = [\"Black-naped Oriole\", \"Brown-throated Sunbird\", \"Collared Kingfisher\", \"Javan Myna\", \"Olive-backed Sunbird\", \"Pink-necked Green Pigeon\", \"Spotted Dove\", \"Striated Heron\", \"White-breasted Waterhen\", \"Yellow-vented Bulbul\"]\n",
    "\n",
    "NUM_IMAGES_PER_CLASS = 120\n",
    "final_image_size = (224, 224)\n",
    "\n",
    "for bird_name in bird_names: # for each type of bird\n",
    "    load_path = \"data/images/\" + bird_name + \"/\"\n",
    "    placeholder_image_name = bird_name + \"-?.png\"\n",
    "    save_path = \"data/cropped_images/\" + bird_name + \"/\"\n",
    "    \n",
    "    for i in range(NUM_IMAGES_PER_CLASS):\n",
    "        image_name = placeholder_image_name.replace(\"?\", str(i))\n",
    "        image = Image.open(load_path + image_name)\n",
    "        cropped = get_square_cropped_image(image)\n",
    "        resized = cropped.resize(final_image_size)\n",
    "        resized.save(save_path + image_name)"
   ]
  },
  {
   "cell_type": "code",
   "execution_count": null,
   "id": "650472fa",
   "metadata": {},
   "outputs": [],
   "source": []
  }
 ],
 "metadata": {
  "kernelspec": {
   "display_name": "Python 3 (ipykernel)",
   "language": "python",
   "name": "python3"
  },
  "language_info": {
   "codemirror_mode": {
    "name": "ipython",
    "version": 3
   },
   "file_extension": ".py",
   "mimetype": "text/x-python",
   "name": "python",
   "nbconvert_exporter": "python",
   "pygments_lexer": "ipython3",
   "version": "3.7.10"
  }
 },
 "nbformat": 4,
 "nbformat_minor": 5
}
